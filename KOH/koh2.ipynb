{
 "cells": [
  {
   "cell_type": "code",
   "execution_count": 1,
   "id": "c2bbc7f0",
   "metadata": {},
   "outputs": [],
   "source": [
    "import matplotlib.pyplot as plt\n",
    "import matplotlib.cm as cm\n",
    "import numpy as np\n",
    "import pandas as pd\n",
    "from sklearn.cluster import KMeans\n",
    "from sklearn.metrics import silhouette_score"
   ]
  },
  {
   "cell_type": "markdown",
   "id": "cdc3029d",
   "metadata": {},
   "source": [
    "# SOM class"
   ]
  },
  {
   "cell_type": "code",
   "execution_count": 2,
   "id": "0b9d3a58",
   "metadata": {},
   "outputs": [],
   "source": [
    "class SOM():\n",
    "    def __init__(self, n, m, input_size, nbhd_fun_name='gaussian', nbhd_width=1.0, lr_decay_rate=0.1, grid_type='rect'):\n",
    "        self.size = (n, m)\n",
    "        self.input_size = input_size\n",
    "        self.weights = np.random.rand(n, m, input_size)\n",
    "        self.nbhd_width = nbhd_width\n",
    "        self._set_nbhd_fun(nbhd_fun_name)\n",
    "        self.lr_decay_rate = lr_decay_rate\n",
    "        self.lr_fun = lambda t: np.exp(-t / self.lr_decay_rate)\n",
    "        self.grid_type = grid_type\n",
    "\n",
    "    def _set_nbhd_fun(self, nbhd_fun_name):\n",
    "        \"\"\"Set the neighborhood function based on the specified type.\"\"\"\n",
    "        if nbhd_fun_name == 'gaussian':\n",
    "            self.nbhd_fun = lambda d: np.exp(- d ** 2 / (2 * self.nbhd_width))\n",
    "        elif nbhd_fun_name == 'mexican_hat':\n",
    "            self.nbhd_fun = lambda d: (1 - (d ** 2) / self.nbhd_width) * np.exp(- (d ** 2) / (2 * self.nbhd_width))\n",
    "        else:\n",
    "            raise ValueError(\"Unknown neighborhood function: {}\".format(nbhd_fun_name))\n",
    "    \n",
    "    def find_bmu(self, x):\n",
    "        \"\"\"Find the Best Matching Unit (BMU) for the input x.\"\"\"\n",
    "        bmu_flat_idx = np.argmin(np.linalg.norm(self.weights - x, axis=2))\n",
    "        bmu = np.unravel_index(bmu_flat_idx, self.size)\n",
    "        if self.grid_type == 'hex':\n",
    "            bmu = (bmu[0] + 0.5 * (bmu[1] % 2), bmu[1])\n",
    "        return bmu\n",
    "    \n",
    "    def _update_weights(self, x, bmu, t):\n",
    "        \"\"\"Update the weights of the SOM.\"\"\"\n",
    "        learning_rate = self.lr_fun(t)\n",
    "        for i in range(self.size[0]):\n",
    "            for j in range(self.size[1]):\n",
    "                i_hex = i\n",
    "                if self.grid_type == 'hex':\n",
    "                    if j % 2 == 1:\n",
    "                        i_hex = i + 0.5\n",
    "                d = np.linalg.norm(np.array(bmu) - np.array((i_hex, j)))\n",
    "                nbhd_weight = self.nbhd_fun(d)\n",
    "                self.weights[i, j] += learning_rate * nbhd_weight * (x - self.weights[i, j])\n",
    "        \n",
    "    def fit(self, data, epochs=1000, n_display_epochs=100):\n",
    "        \"\"\"Train the SOM with the given data.\"\"\"\n",
    "        data = np.array(data)\n",
    "        for t in range(epochs):\n",
    "            if (t+1) % n_display_epochs == 0 or t == 0:\n",
    "                print(f\"Epoch {t+1}/{epochs}\")\n",
    "            shuffled_data = np.random.permutation(data)\n",
    "            for x in shuffled_data:\n",
    "                bmu = self.find_bmu(x)\n",
    "                self._update_weights(x, bmu, t)\n",
    "\n",
    "    def u_matrix(self):\n",
    "        \"\"\"Calculate the distance map of the SOM.\"\"\"\n",
    "        rows, cols = self.size\n",
    "        u_matrix = np.zeros((self.size[0], self.size[1]))\n",
    "\n",
    "        neighbor_offsets = [(-1, 0), (1, 0), (0, -1), (0, 1)]\n",
    "\n",
    "        for i in range(rows):\n",
    "            for j in range(cols):\n",
    "                neighbor_distances = []\n",
    "                for dx, dy in neighbor_offsets:\n",
    "                    ni, nj = i + dx, j + dy\n",
    "                    if 0 <= ni < rows and 0 <= nj < cols:\n",
    "                        dist = np.linalg.norm(self.weights[i, j] - self.weights[ni, nj])\n",
    "                        neighbor_distances.append(dist)\n",
    "                u_matrix[i, j] = np.mean(neighbor_distances) if neighbor_distances else 0\n",
    "        u_matrix = (u_matrix - np.min(u_matrix)) / (np.max(u_matrix) - np.min(u_matrix))\n",
    "\n",
    "        return u_matrix"
   ]
  },
  {
   "cell_type": "code",
   "execution_count": 3,
   "id": "6adec7dd",
   "metadata": {},
   "outputs": [],
   "source": [
    "def find_clusters(som, X, y, max_clusters=20, n_labels=10):\n",
    "    \"\"\"Find clusters in the SOM using KMeans.\"\"\"\n",
    "    scores = []\n",
    "    labels_list = []\n",
    "    weights = som.weights.reshape(-1, som.input_size)\n",
    "\n",
    "    for k in range(2, max_clusters + 1):\n",
    "        kmeans = KMeans(n_clusters=k, random_state=42)\n",
    "        labels = kmeans.fit_predict(weights)\n",
    "        score = silhouette_score(weights, labels)\n",
    "        scores.append(score)\n",
    "        labels_list.append(labels)\n",
    "\n",
    "    best_k = np.argmax(scores) + 2\n",
    "    neuron_labels = labels_list[best_k - 2]\n",
    "    neuron_labels_2d = neuron_labels.reshape(som.size)\n",
    "\n",
    "    def assign_cluster(x):\n",
    "        bmu = som.find_bmu(x)\n",
    "        if som.grid_type == 'hex':\n",
    "            bmu = (int(bmu[0] - 0.5 * (bmu[1] % 2)), bmu[1])\n",
    "        return neuron_labels_2d[bmu]\n",
    "    \n",
    "    clusters = np.array([assign_cluster(x) for x in X])\n",
    "\n",
    "    if best_k == np.unique(y).size:\n",
    "        cluster_to_label = {}\n",
    "        for cluster in np.unique(clusters):\n",
    "            labels_in_cluster = y[clusters == cluster]\n",
    "            if len(labels_in_cluster) > 0:\n",
    "                most_common_label = pd.Series(labels_in_cluster).mode()[0]\n",
    "                cluster_to_label[cluster] = most_common_label\n",
    "        y_pred = np.array([cluster_to_label[c] for c in clusters])\n",
    "    else:\n",
    "        print(\"Warning: The number of clusters does not match the number of labels. No label assignment will be done.\")\n",
    "        y_pred = clusters\n",
    "    return y_pred, best_k, scores[best_k - 2], neuron_labels_2d\n"
   ]
  },
  {
   "cell_type": "code",
   "execution_count": 4,
   "id": "8c07c9c1",
   "metadata": {},
   "outputs": [],
   "source": [
    "def normalize(data, min = None, max = None):\n",
    "    data = np.array(data)\n",
    "    if min is None:\n",
    "        min = np.min(data, axis=0)\n",
    "\n",
    "    if max is None:\n",
    "        max = np.max(data, axis=0)\n",
    "\n",
    "    return (data - min) / (max - min), min, max    "
   ]
  },
  {
   "cell_type": "code",
   "execution_count": 5,
   "id": "aabb5940",
   "metadata": {},
   "outputs": [],
   "source": [
    "def denormalize(data, min, max):\n",
    "    data = np.array(data)\n",
    "    return data * (max - min) + min"
   ]
  },
  {
   "cell_type": "markdown",
   "id": "1d0571e3",
   "metadata": {},
   "source": [
    "# MNIST"
   ]
  },
  {
   "cell_type": "code",
   "execution_count": 6,
   "metadata": {},
   "outputs": [],
   "source": [
    "from sklearn.datasets import fetch_openml\n",
    "\n",
    "# Load the MNIST dataset\n",
    "mnist = fetch_openml('mnist_784', version=1)\n",
    "X = mnist.data.values\n",
    "y = mnist.target.astype(int)\n",
    "X = X / 255.0  # Normalize the data"
   ]
  },
  {
   "cell_type": "code",
   "execution_count": 7,
   "id": "2f10be57",
   "metadata": {},
   "outputs": [
    {
     "name": "stdout",
     "output_type": "stream",
     "text": [
      "Data shape: (70000, 784) Labels shape: (70000,)\n"
     ]
    }
   ],
   "source": [
    "print(\"Data shape:\", X.shape, \"Labels shape:\", y.shape)"
   ]
  },
  {
   "cell_type": "code",
   "execution_count": 8,
   "id": "c488dd41",
   "metadata": {},
   "outputs": [
    {
     "name": "stdout",
     "output_type": "stream",
     "text": [
      "Target classes: [0 1 2 3 4 5 6 7 8 9]\n"
     ]
    }
   ],
   "source": [
    "print('Target classes:', np.unique(y))"
   ]
  },
  {
   "cell_type": "code",
   "execution_count": 9,
   "id": "d36ae7b0",
   "metadata": {},
   "outputs": [],
   "source": [
    "from sklearn.model_selection import train_test_split\n",
    "X_train, _, y_train, _ = train_test_split(X, y, test_size=0.99, random_state=42)"
   ]
  },
  {
   "cell_type": "code",
   "execution_count": 10,
   "id": "1ff4e022",
   "metadata": {},
   "outputs": [
    {
     "name": "stdout",
     "output_type": "stream",
     "text": [
      "Data shape: (70000, 784)\n",
      "Train shape: (700, 784) Labels shape: (700,)\n"
     ]
    }
   ],
   "source": [
    "print(\"Data shape:\", X.shape)\n",
    "print(\"Train shape:\", X_train.shape, \"Labels shape:\", y_train.shape)"
   ]
  },
  {
   "cell_type": "code",
   "execution_count": 11,
   "id": "6a4d51d5",
   "metadata": {},
   "outputs": [],
   "source": [
    "# from sklearn.decomposition import PCA\n",
    "# pca = PCA(n_components=20)\n",
    "# X_train = pca.fit_transform(X_train)"
   ]
  },
  {
   "cell_type": "code",
   "execution_count": 12,
   "id": "63c1f4ee",
   "metadata": {},
   "outputs": [
    {
     "name": "stdout",
     "output_type": "stream",
     "text": [
      "Epoch 1/100\n",
      "Epoch 2/100\n",
      "Epoch 3/100\n",
      "Epoch 4/100\n",
      "Epoch 5/100\n",
      "Epoch 6/100\n",
      "Epoch 7/100\n",
      "Epoch 8/100\n",
      "Epoch 9/100\n",
      "Epoch 10/100\n",
      "Epoch 11/100\n",
      "Epoch 12/100\n",
      "Epoch 13/100\n",
      "Epoch 14/100\n",
      "Epoch 15/100\n",
      "Epoch 16/100\n",
      "Epoch 17/100\n",
      "Epoch 18/100\n",
      "Epoch 19/100\n",
      "Epoch 20/100\n",
      "Epoch 21/100\n",
      "Epoch 22/100\n",
      "Epoch 23/100\n",
      "Epoch 24/100\n",
      "Epoch 25/100\n",
      "Epoch 26/100\n",
      "Epoch 27/100\n",
      "Epoch 28/100\n",
      "Epoch 29/100\n",
      "Epoch 30/100\n",
      "Epoch 31/100\n",
      "Epoch 32/100\n",
      "Epoch 33/100\n",
      "Epoch 34/100\n",
      "Epoch 35/100\n",
      "Epoch 36/100\n",
      "Epoch 37/100\n",
      "Epoch 38/100\n",
      "Epoch 39/100\n",
      "Epoch 40/100\n",
      "Epoch 41/100\n",
      "Epoch 42/100\n",
      "Epoch 43/100\n",
      "Epoch 44/100\n",
      "Epoch 45/100\n",
      "Epoch 46/100\n",
      "Epoch 47/100\n",
      "Epoch 48/100\n",
      "Epoch 49/100\n",
      "Epoch 50/100\n",
      "Epoch 51/100\n",
      "Epoch 52/100\n",
      "Epoch 53/100\n",
      "Epoch 54/100\n",
      "Epoch 55/100\n",
      "Epoch 56/100\n",
      "Epoch 57/100\n",
      "Epoch 58/100\n",
      "Epoch 59/100\n",
      "Epoch 60/100\n",
      "Epoch 61/100\n",
      "Epoch 62/100\n",
      "Epoch 63/100\n",
      "Epoch 64/100\n",
      "Epoch 65/100\n",
      "Epoch 66/100\n",
      "Epoch 67/100\n",
      "Epoch 68/100\n",
      "Epoch 69/100\n",
      "Epoch 70/100\n",
      "Epoch 71/100\n",
      "Epoch 72/100\n",
      "Epoch 73/100\n",
      "Epoch 74/100\n",
      "Epoch 75/100\n",
      "Epoch 76/100\n",
      "Epoch 77/100\n",
      "Epoch 78/100\n",
      "Epoch 79/100\n",
      "Epoch 80/100\n",
      "Epoch 81/100\n",
      "Epoch 82/100\n",
      "Epoch 83/100\n",
      "Epoch 84/100\n",
      "Epoch 85/100\n",
      "Epoch 86/100\n",
      "Epoch 87/100\n",
      "Epoch 88/100\n",
      "Epoch 89/100\n",
      "Epoch 90/100\n",
      "Epoch 91/100\n",
      "Epoch 92/100\n",
      "Epoch 93/100\n",
      "Epoch 94/100\n",
      "Epoch 95/100\n",
      "Epoch 96/100\n",
      "Epoch 97/100\n",
      "Epoch 98/100\n",
      "Epoch 99/100\n",
      "Epoch 100/100\n"
     ]
    }
   ],
   "source": [
    "som_rect = SOM(20, 20, 784, nbhd_fun_name='gaussian', nbhd_width=1.0, lr_decay_rate=1000, grid_type='rect')\n",
    "som_rect.fit(X_train, epochs=100, n_display_epochs=1)"
   ]
  },
  {
   "cell_type": "code",
   "execution_count": 13,
   "id": "c545fb83",
   "metadata": {},
   "outputs": [
    {
     "name": "stdout",
     "output_type": "stream",
     "text": [
      "Warning: The number of clusters does not match the number of labels. No label assignment will be done.\n"
     ]
    }
   ],
   "source": [
    "y_pred_rect, best_k_rect, score_rect, neuron_labels_2d_rect = find_clusters(som_rect, X_train, y_train, max_clusters=20, n_labels=10)"
   ]
  },
  {
   "cell_type": "code",
   "execution_count": 14,
   "id": "d2ed9a38",
   "metadata": {},
   "outputs": [
    {
     "name": "stdout",
     "output_type": "stream",
     "text": [
      "20\n"
     ]
    }
   ],
   "source": [
    "print(best_k_rect)"
   ]
  },
  {
   "cell_type": "code",
   "execution_count": 15,
   "id": "00421eeb",
   "metadata": {},
   "outputs": [
    {
     "name": "stdout",
     "output_type": "stream",
     "text": [
      "Epoch 1/100\n",
      "Epoch 2/100\n",
      "Epoch 3/100\n",
      "Epoch 4/100\n",
      "Epoch 5/100\n",
      "Epoch 6/100\n",
      "Epoch 7/100\n",
      "Epoch 8/100\n",
      "Epoch 9/100\n",
      "Epoch 10/100\n",
      "Epoch 11/100\n",
      "Epoch 12/100\n",
      "Epoch 13/100\n",
      "Epoch 14/100\n",
      "Epoch 15/100\n",
      "Epoch 16/100\n",
      "Epoch 17/100\n",
      "Epoch 18/100\n",
      "Epoch 19/100\n",
      "Epoch 20/100\n",
      "Epoch 21/100\n",
      "Epoch 22/100\n",
      "Epoch 23/100\n",
      "Epoch 24/100\n",
      "Epoch 25/100\n",
      "Epoch 26/100\n",
      "Epoch 27/100\n",
      "Epoch 28/100\n",
      "Epoch 29/100\n",
      "Epoch 30/100\n",
      "Epoch 31/100\n",
      "Epoch 32/100\n",
      "Epoch 33/100\n",
      "Epoch 34/100\n",
      "Epoch 35/100\n",
      "Epoch 36/100\n",
      "Epoch 37/100\n",
      "Epoch 38/100\n",
      "Epoch 39/100\n",
      "Epoch 40/100\n",
      "Epoch 41/100\n",
      "Epoch 42/100\n",
      "Epoch 43/100\n",
      "Epoch 44/100\n",
      "Epoch 45/100\n",
      "Epoch 46/100\n",
      "Epoch 47/100\n",
      "Epoch 48/100\n",
      "Epoch 49/100\n",
      "Epoch 50/100\n",
      "Epoch 51/100\n",
      "Epoch 52/100\n",
      "Epoch 53/100\n",
      "Epoch 54/100\n",
      "Epoch 55/100\n",
      "Epoch 56/100\n",
      "Epoch 57/100\n",
      "Epoch 58/100\n",
      "Epoch 59/100\n",
      "Epoch 60/100\n",
      "Epoch 61/100\n",
      "Epoch 62/100\n",
      "Epoch 63/100\n",
      "Epoch 64/100\n",
      "Epoch 65/100\n",
      "Epoch 66/100\n",
      "Epoch 67/100\n",
      "Epoch 68/100\n",
      "Epoch 69/100\n",
      "Epoch 70/100\n",
      "Epoch 71/100\n",
      "Epoch 72/100\n",
      "Epoch 73/100\n",
      "Epoch 74/100\n",
      "Epoch 75/100\n",
      "Epoch 76/100\n",
      "Epoch 77/100\n",
      "Epoch 78/100\n",
      "Epoch 79/100\n",
      "Epoch 80/100\n",
      "Epoch 81/100\n",
      "Epoch 82/100\n",
      "Epoch 83/100\n",
      "Epoch 84/100\n",
      "Epoch 85/100\n",
      "Epoch 86/100\n",
      "Epoch 87/100\n",
      "Epoch 88/100\n",
      "Epoch 89/100\n",
      "Epoch 90/100\n",
      "Epoch 91/100\n",
      "Epoch 92/100\n",
      "Epoch 93/100\n",
      "Epoch 94/100\n",
      "Epoch 95/100\n",
      "Epoch 96/100\n",
      "Epoch 97/100\n",
      "Epoch 98/100\n",
      "Epoch 99/100\n",
      "Epoch 100/100\n"
     ]
    }
   ],
   "source": [
    "som_hex = SOM(20, 20, 784, nbhd_fun_name='gaussian', nbhd_width=1.0, lr_decay_rate=1000, grid_type='hex')\n",
    "som_hex.fit(X_train, epochs=100, n_display_epochs=1)"
   ]
  },
  {
   "cell_type": "code",
   "execution_count": 16,
   "id": "46653269",
   "metadata": {},
   "outputs": [
    {
     "name": "stdout",
     "output_type": "stream",
     "text": [
      "Warning: The number of clusters does not match the number of labels. No label assignment will be done.\n"
     ]
    }
   ],
   "source": [
    "y_pred_hex, best_k_hex, score_hex, neuron_labels_2d_hex = find_clusters(som_hex, X_train, y_train, max_clusters=20, n_labels=10)"
   ]
  },
  {
   "cell_type": "code",
   "execution_count": 17,
   "id": "acb72ada",
   "metadata": {},
   "outputs": [
    {
     "name": "stdout",
     "output_type": "stream",
     "text": [
      "20\n"
     ]
    }
   ],
   "source": [
    "print(best_k_rect)"
   ]
  },
  {
   "cell_type": "markdown",
   "id": "0fb39bcf",
   "metadata": {},
   "source": [
    "# HAR"
   ]
  },
  {
   "cell_type": "code",
   "execution_count": 18,
   "id": "a5ec3776",
   "metadata": {},
   "outputs": [
    {
     "name": "stderr",
     "output_type": "stream",
     "text": [
      "C:\\Users\\kuba_\\AppData\\Local\\Temp\\ipykernel_30784\\3976687524.py:1: FutureWarning: The 'delim_whitespace' keyword in pd.read_csv is deprecated and will be removed in a future version. Use ``sep='\\s+'`` instead\n",
      "  X = pd.read_csv('data/UCI HAR Dataset/train/X_train.txt', delim_whitespace=True, header=None).values\n",
      "C:\\Users\\kuba_\\AppData\\Local\\Temp\\ipykernel_30784\\3976687524.py:2: FutureWarning: The 'delim_whitespace' keyword in pd.read_csv is deprecated and will be removed in a future version. Use ``sep='\\s+'`` instead\n",
      "  y = pd.read_csv('data/UCI HAR Dataset/train/y_train.txt', delim_whitespace=True, header=None).values\n"
     ]
    }
   ],
   "source": [
    "X = pd.read_csv('data/UCI HAR Dataset/train/X_train.txt', delim_whitespace=True, header=None).values\n",
    "y = pd.read_csv('data/UCI HAR Dataset/train/y_train.txt', delim_whitespace=True, header=None).values"
   ]
  },
  {
   "cell_type": "code",
   "execution_count": 19,
   "id": "914e6dbe",
   "metadata": {},
   "outputs": [
    {
     "name": "stdout",
     "output_type": "stream",
     "text": [
      "Data shape: (7352, 561) Labels shape: (7352, 1)\n"
     ]
    }
   ],
   "source": [
    "print(\"Data shape:\", X.shape, \"Labels shape:\", y.shape)"
   ]
  },
  {
   "cell_type": "code",
   "execution_count": 20,
   "id": "ae6643b6",
   "metadata": {},
   "outputs": [],
   "source": [
    "from sklearn.model_selection import train_test_split\n",
    "X_train, _, y_train, _ = train_test_split(X, y, test_size=0.7, random_state=42)"
   ]
  },
  {
   "cell_type": "code",
   "execution_count": 21,
   "id": "719cedee",
   "metadata": {},
   "outputs": [],
   "source": [
    "# from sklearn.decomposition import PCA\n",
    "# pca = PCA(n_components=20)\n",
    "# X_train = pca.fit_transform(X_train)"
   ]
  },
  {
   "cell_type": "code",
   "execution_count": 22,
   "id": "22200749",
   "metadata": {},
   "outputs": [
    {
     "name": "stdout",
     "output_type": "stream",
     "text": [
      "Data shape: (2205, 561) Labels shape: (2205, 1)\n"
     ]
    }
   ],
   "source": [
    "print(\"Data shape:\", X_train.shape, \"Labels shape:\", y_train.shape)"
   ]
  },
  {
   "cell_type": "code",
   "execution_count": 24,
   "id": "25f3ea33",
   "metadata": {},
   "outputs": [
    {
     "name": "stdout",
     "output_type": "stream",
     "text": [
      "Unique labels: [1 2 3 4 5 6]\n"
     ]
    }
   ],
   "source": [
    "print('Unique labels:', np.unique(y_train))"
   ]
  },
  {
   "cell_type": "code",
   "execution_count": 26,
   "id": "1c6310ab",
   "metadata": {},
   "outputs": [],
   "source": [
    "X_train, min, max = normalize(X_train)"
   ]
  },
  {
   "cell_type": "code",
   "execution_count": 27,
   "id": "bd4715dc",
   "metadata": {},
   "outputs": [
    {
     "name": "stdout",
     "output_type": "stream",
     "text": [
      "Epoch 1/100\n",
      "Epoch 2/100\n",
      "Epoch 3/100\n",
      "Epoch 4/100\n",
      "Epoch 5/100\n",
      "Epoch 6/100\n",
      "Epoch 7/100\n",
      "Epoch 8/100\n",
      "Epoch 9/100\n",
      "Epoch 10/100\n",
      "Epoch 11/100\n",
      "Epoch 12/100\n",
      "Epoch 13/100\n",
      "Epoch 14/100\n",
      "Epoch 15/100\n",
      "Epoch 16/100\n",
      "Epoch 17/100\n",
      "Epoch 18/100\n",
      "Epoch 19/100\n",
      "Epoch 20/100\n",
      "Epoch 21/100\n",
      "Epoch 22/100\n",
      "Epoch 23/100\n",
      "Epoch 24/100\n",
      "Epoch 25/100\n",
      "Epoch 26/100\n",
      "Epoch 27/100\n",
      "Epoch 28/100\n",
      "Epoch 29/100\n",
      "Epoch 30/100\n",
      "Epoch 31/100\n",
      "Epoch 32/100\n",
      "Epoch 33/100\n",
      "Epoch 34/100\n",
      "Epoch 35/100\n",
      "Epoch 36/100\n",
      "Epoch 37/100\n",
      "Epoch 38/100\n",
      "Epoch 39/100\n",
      "Epoch 40/100\n",
      "Epoch 41/100\n",
      "Epoch 42/100\n",
      "Epoch 43/100\n",
      "Epoch 44/100\n",
      "Epoch 45/100\n",
      "Epoch 46/100\n",
      "Epoch 47/100\n",
      "Epoch 48/100\n",
      "Epoch 49/100\n",
      "Epoch 50/100\n",
      "Epoch 51/100\n",
      "Epoch 52/100\n",
      "Epoch 53/100\n",
      "Epoch 54/100\n",
      "Epoch 55/100\n",
      "Epoch 56/100\n",
      "Epoch 57/100\n",
      "Epoch 58/100\n",
      "Epoch 59/100\n",
      "Epoch 60/100\n",
      "Epoch 61/100\n",
      "Epoch 62/100\n",
      "Epoch 63/100\n",
      "Epoch 64/100\n",
      "Epoch 65/100\n",
      "Epoch 66/100\n",
      "Epoch 67/100\n",
      "Epoch 68/100\n",
      "Epoch 69/100\n",
      "Epoch 70/100\n",
      "Epoch 71/100\n",
      "Epoch 72/100\n",
      "Epoch 73/100\n",
      "Epoch 74/100\n",
      "Epoch 75/100\n",
      "Epoch 76/100\n",
      "Epoch 77/100\n",
      "Epoch 78/100\n",
      "Epoch 79/100\n",
      "Epoch 80/100\n",
      "Epoch 81/100\n",
      "Epoch 82/100\n",
      "Epoch 83/100\n",
      "Epoch 84/100\n",
      "Epoch 85/100\n",
      "Epoch 86/100\n",
      "Epoch 87/100\n",
      "Epoch 88/100\n",
      "Epoch 89/100\n",
      "Epoch 90/100\n",
      "Epoch 91/100\n",
      "Epoch 92/100\n",
      "Epoch 93/100\n",
      "Epoch 94/100\n",
      "Epoch 95/100\n",
      "Epoch 96/100\n",
      "Epoch 97/100\n",
      "Epoch 98/100\n",
      "Epoch 99/100\n",
      "Epoch 100/100\n"
     ]
    }
   ],
   "source": [
    "som_rect = SOM(20, 20, 561, nbhd_fun_name='gaussian', nbhd_width=1.0, lr_decay_rate=1000, grid_type='rect')\n",
    "som_rect.fit(X_train, epochs=100, n_display_epochs=1)"
   ]
  },
  {
   "cell_type": "code",
   "execution_count": 28,
   "id": "d73312e3",
   "metadata": {},
   "outputs": [
    {
     "name": "stdout",
     "output_type": "stream",
     "text": [
      "Warning: The number of clusters does not match the number of labels. No label assignment will be done.\n"
     ]
    }
   ],
   "source": [
    "y_pred_rect, best_k_rect, score_rect, neuron_labels_2d_rect = find_clusters(som_rect, X_train, y_train, max_clusters=20, n_labels=6)"
   ]
  },
  {
   "cell_type": "code",
   "execution_count": 29,
   "id": "783b0682",
   "metadata": {},
   "outputs": [
    {
     "name": "stdout",
     "output_type": "stream",
     "text": [
      "2\n"
     ]
    }
   ],
   "source": [
    "print(best_k_rect)"
   ]
  },
  {
   "cell_type": "code",
   "execution_count": 30,
   "id": "e84ad361",
   "metadata": {},
   "outputs": [
    {
     "name": "stdout",
     "output_type": "stream",
     "text": [
      "Epoch 1/100\n",
      "Epoch 2/100\n",
      "Epoch 3/100\n",
      "Epoch 4/100\n",
      "Epoch 5/100\n",
      "Epoch 6/100\n",
      "Epoch 7/100\n",
      "Epoch 8/100\n",
      "Epoch 9/100\n",
      "Epoch 10/100\n",
      "Epoch 11/100\n",
      "Epoch 12/100\n",
      "Epoch 13/100\n",
      "Epoch 14/100\n",
      "Epoch 15/100\n",
      "Epoch 16/100\n",
      "Epoch 17/100\n",
      "Epoch 18/100\n",
      "Epoch 19/100\n",
      "Epoch 20/100\n",
      "Epoch 21/100\n",
      "Epoch 22/100\n",
      "Epoch 23/100\n",
      "Epoch 24/100\n",
      "Epoch 25/100\n",
      "Epoch 26/100\n",
      "Epoch 27/100\n",
      "Epoch 28/100\n",
      "Epoch 29/100\n",
      "Epoch 30/100\n",
      "Epoch 31/100\n",
      "Epoch 32/100\n",
      "Epoch 33/100\n",
      "Epoch 34/100\n",
      "Epoch 35/100\n",
      "Epoch 36/100\n",
      "Epoch 37/100\n",
      "Epoch 38/100\n",
      "Epoch 39/100\n",
      "Epoch 40/100\n",
      "Epoch 41/100\n",
      "Epoch 42/100\n",
      "Epoch 43/100\n",
      "Epoch 44/100\n",
      "Epoch 45/100\n",
      "Epoch 46/100\n",
      "Epoch 47/100\n",
      "Epoch 48/100\n",
      "Epoch 49/100\n",
      "Epoch 50/100\n",
      "Epoch 51/100\n",
      "Epoch 52/100\n",
      "Epoch 53/100\n",
      "Epoch 54/100\n",
      "Epoch 55/100\n",
      "Epoch 56/100\n",
      "Epoch 57/100\n",
      "Epoch 58/100\n",
      "Epoch 59/100\n",
      "Epoch 60/100\n",
      "Epoch 61/100\n",
      "Epoch 62/100\n",
      "Epoch 63/100\n",
      "Epoch 64/100\n",
      "Epoch 65/100\n",
      "Epoch 66/100\n",
      "Epoch 67/100\n",
      "Epoch 68/100\n",
      "Epoch 69/100\n",
      "Epoch 70/100\n",
      "Epoch 71/100\n",
      "Epoch 72/100\n",
      "Epoch 73/100\n",
      "Epoch 74/100\n",
      "Epoch 75/100\n",
      "Epoch 76/100\n",
      "Epoch 77/100\n",
      "Epoch 78/100\n",
      "Epoch 79/100\n",
      "Epoch 80/100\n",
      "Epoch 81/100\n",
      "Epoch 82/100\n",
      "Epoch 83/100\n",
      "Epoch 84/100\n",
      "Epoch 85/100\n",
      "Epoch 86/100\n",
      "Epoch 87/100\n",
      "Epoch 88/100\n",
      "Epoch 89/100\n",
      "Epoch 90/100\n",
      "Epoch 91/100\n",
      "Epoch 92/100\n",
      "Epoch 93/100\n",
      "Epoch 94/100\n",
      "Epoch 95/100\n",
      "Epoch 96/100\n",
      "Epoch 97/100\n",
      "Epoch 98/100\n",
      "Epoch 99/100\n",
      "Epoch 100/100\n"
     ]
    }
   ],
   "source": [
    "som_hex = SOM(20, 20, 561, nbhd_fun_name='gaussian', nbhd_width=1.0, lr_decay_rate=1000, grid_type='hex')\n",
    "som_hex.fit(X_train, epochs=100, n_display_epochs=1)"
   ]
  },
  {
   "cell_type": "code",
   "execution_count": 31,
   "id": "be838005",
   "metadata": {},
   "outputs": [
    {
     "name": "stdout",
     "output_type": "stream",
     "text": [
      "Warning: The number of clusters does not match the number of labels. No label assignment will be done.\n"
     ]
    }
   ],
   "source": [
    "y_pred_hex, best_k_hex, score_hex, neuron_labels_2d_hex = find_clusters(som_hex, X_train, y_train, max_clusters=20, n_labels=6)"
   ]
  },
  {
   "cell_type": "code",
   "execution_count": 32,
   "id": "0b0d0207",
   "metadata": {},
   "outputs": [
    {
     "name": "stdout",
     "output_type": "stream",
     "text": [
      "2\n"
     ]
    }
   ],
   "source": [
    "print(best_k_hex)"
   ]
  },
  {
   "cell_type": "code",
   "execution_count": null,
   "id": "8b37d9d9",
   "metadata": {},
   "outputs": [],
   "source": []
  }
 ],
 "metadata": {
  "kernelspec": {
   "display_name": "Python 3",
   "language": "python",
   "name": "python3"
  },
  "language_info": {
   "codemirror_mode": {
    "name": "ipython",
    "version": 3
   },
   "file_extension": ".py",
   "mimetype": "text/x-python",
   "name": "python",
   "nbconvert_exporter": "python",
   "pygments_lexer": "ipython3",
   "version": "3.12.3"
  }
 },
 "nbformat": 4,
 "nbformat_minor": 5
}
